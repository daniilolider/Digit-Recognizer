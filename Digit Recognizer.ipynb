{
 "cells": [
  {
   "cell_type": "markdown",
   "source": [
    "# Импорт Библиотек"
   ],
   "metadata": {
    "collapsed": false
   },
   "id": "5402e1c39a006105"
  },
  {
   "cell_type": "code",
   "execution_count": 179,
   "id": "initial_id",
   "metadata": {
    "collapsed": true,
    "ExecuteTime": {
     "end_time": "2025-08-20T21:58:50.050121200Z",
     "start_time": "2025-08-20T21:58:49.857915900Z"
    }
   },
   "outputs": [],
   "source": [
    "import pandas as pd\n",
    "\n",
    "import torch\n",
    "from torch import nn\n",
    "import torch.nn.functional as F \n",
    "import torch.optim as optim\n",
    "from torch.utils.data import TensorDataset, DataLoader\n",
    "\n",
    "from sklearn.model_selection import train_test_split"
   ]
  },
  {
   "cell_type": "markdown",
   "source": [
    "# Установим устройство (CPU или GPU)"
   ],
   "metadata": {
    "collapsed": false
   },
   "id": "99e6f87fecc32821"
  },
  {
   "cell_type": "code",
   "execution_count": 180,
   "outputs": [
    {
     "data": {
      "text/plain": "(True, True)"
     },
     "execution_count": 180,
     "metadata": {},
     "output_type": "execute_result"
    }
   ],
   "source": [
    "torch.cuda.is_available(), torch.backends.cudnn.enabled"
   ],
   "metadata": {
    "collapsed": false,
    "ExecuteTime": {
     "end_time": "2025-08-20T21:58:50.062987900Z",
     "start_time": "2025-08-20T21:58:50.052122700Z"
    }
   },
   "id": "3a21f19201378f9e"
  },
  {
   "cell_type": "code",
   "execution_count": 181,
   "outputs": [
    {
     "data": {
      "text/plain": "device(type='cuda')"
     },
     "execution_count": 181,
     "metadata": {},
     "output_type": "execute_result"
    }
   ],
   "source": [
    "device = torch.device('cuda' if torch.cuda.is_available() else 'cpu')\n",
    "device"
   ],
   "metadata": {
    "collapsed": false,
    "ExecuteTime": {
     "end_time": "2025-08-20T21:58:50.077314700Z",
     "start_time": "2025-08-20T21:58:50.061986700Z"
    }
   },
   "id": "2329332a79bf9fbd"
  },
  {
   "cell_type": "markdown",
   "source": [
    "# Импорт Данных"
   ],
   "metadata": {
    "collapsed": false
   },
   "id": "93cf0d5a23e2fda9"
  },
  {
   "cell_type": "markdown",
   "source": [
    "То, на чем будем учиться"
   ],
   "metadata": {
    "collapsed": false
   },
   "id": "f43b982e9f97ba9"
  },
  {
   "cell_type": "code",
   "execution_count": 182,
   "outputs": [],
   "source": [
    "train = pd.read_csv('train.csv')"
   ],
   "metadata": {
    "collapsed": false,
    "ExecuteTime": {
     "end_time": "2025-08-20T21:58:50.972578800Z",
     "start_time": "2025-08-20T21:58:50.076313500Z"
    }
   },
   "id": "11b6beda00f97388"
  },
  {
   "cell_type": "code",
   "execution_count": 183,
   "outputs": [
    {
     "data": {
      "text/plain": "   label  pixel0  pixel1  pixel2  pixel3  pixel4  pixel5  pixel6  pixel7  \\\n0      1       0       0       0       0       0       0       0       0   \n1      0       0       0       0       0       0       0       0       0   \n2      1       0       0       0       0       0       0       0       0   \n3      4       0       0       0       0       0       0       0       0   \n4      0       0       0       0       0       0       0       0       0   \n\n   pixel8  ...  pixel774  pixel775  pixel776  pixel777  pixel778  pixel779  \\\n0       0  ...         0         0         0         0         0         0   \n1       0  ...         0         0         0         0         0         0   \n2       0  ...         0         0         0         0         0         0   \n3       0  ...         0         0         0         0         0         0   \n4       0  ...         0         0         0         0         0         0   \n\n   pixel780  pixel781  pixel782  pixel783  \n0         0         0         0         0  \n1         0         0         0         0  \n2         0         0         0         0  \n3         0         0         0         0  \n4         0         0         0         0  \n\n[5 rows x 785 columns]",
      "text/html": "<div>\n<style scoped>\n    .dataframe tbody tr th:only-of-type {\n        vertical-align: middle;\n    }\n\n    .dataframe tbody tr th {\n        vertical-align: top;\n    }\n\n    .dataframe thead th {\n        text-align: right;\n    }\n</style>\n<table border=\"1\" class=\"dataframe\">\n  <thead>\n    <tr style=\"text-align: right;\">\n      <th></th>\n      <th>label</th>\n      <th>pixel0</th>\n      <th>pixel1</th>\n      <th>pixel2</th>\n      <th>pixel3</th>\n      <th>pixel4</th>\n      <th>pixel5</th>\n      <th>pixel6</th>\n      <th>pixel7</th>\n      <th>pixel8</th>\n      <th>...</th>\n      <th>pixel774</th>\n      <th>pixel775</th>\n      <th>pixel776</th>\n      <th>pixel777</th>\n      <th>pixel778</th>\n      <th>pixel779</th>\n      <th>pixel780</th>\n      <th>pixel781</th>\n      <th>pixel782</th>\n      <th>pixel783</th>\n    </tr>\n  </thead>\n  <tbody>\n    <tr>\n      <th>0</th>\n      <td>1</td>\n      <td>0</td>\n      <td>0</td>\n      <td>0</td>\n      <td>0</td>\n      <td>0</td>\n      <td>0</td>\n      <td>0</td>\n      <td>0</td>\n      <td>0</td>\n      <td>...</td>\n      <td>0</td>\n      <td>0</td>\n      <td>0</td>\n      <td>0</td>\n      <td>0</td>\n      <td>0</td>\n      <td>0</td>\n      <td>0</td>\n      <td>0</td>\n      <td>0</td>\n    </tr>\n    <tr>\n      <th>1</th>\n      <td>0</td>\n      <td>0</td>\n      <td>0</td>\n      <td>0</td>\n      <td>0</td>\n      <td>0</td>\n      <td>0</td>\n      <td>0</td>\n      <td>0</td>\n      <td>0</td>\n      <td>...</td>\n      <td>0</td>\n      <td>0</td>\n      <td>0</td>\n      <td>0</td>\n      <td>0</td>\n      <td>0</td>\n      <td>0</td>\n      <td>0</td>\n      <td>0</td>\n      <td>0</td>\n    </tr>\n    <tr>\n      <th>2</th>\n      <td>1</td>\n      <td>0</td>\n      <td>0</td>\n      <td>0</td>\n      <td>0</td>\n      <td>0</td>\n      <td>0</td>\n      <td>0</td>\n      <td>0</td>\n      <td>0</td>\n      <td>...</td>\n      <td>0</td>\n      <td>0</td>\n      <td>0</td>\n      <td>0</td>\n      <td>0</td>\n      <td>0</td>\n      <td>0</td>\n      <td>0</td>\n      <td>0</td>\n      <td>0</td>\n    </tr>\n    <tr>\n      <th>3</th>\n      <td>4</td>\n      <td>0</td>\n      <td>0</td>\n      <td>0</td>\n      <td>0</td>\n      <td>0</td>\n      <td>0</td>\n      <td>0</td>\n      <td>0</td>\n      <td>0</td>\n      <td>...</td>\n      <td>0</td>\n      <td>0</td>\n      <td>0</td>\n      <td>0</td>\n      <td>0</td>\n      <td>0</td>\n      <td>0</td>\n      <td>0</td>\n      <td>0</td>\n      <td>0</td>\n    </tr>\n    <tr>\n      <th>4</th>\n      <td>0</td>\n      <td>0</td>\n      <td>0</td>\n      <td>0</td>\n      <td>0</td>\n      <td>0</td>\n      <td>0</td>\n      <td>0</td>\n      <td>0</td>\n      <td>0</td>\n      <td>...</td>\n      <td>0</td>\n      <td>0</td>\n      <td>0</td>\n      <td>0</td>\n      <td>0</td>\n      <td>0</td>\n      <td>0</td>\n      <td>0</td>\n      <td>0</td>\n      <td>0</td>\n    </tr>\n  </tbody>\n</table>\n<p>5 rows × 785 columns</p>\n</div>"
     },
     "execution_count": 183,
     "metadata": {},
     "output_type": "execute_result"
    }
   ],
   "source": [
    "# Всего 42_000\n",
    "train.head()"
   ],
   "metadata": {
    "collapsed": false,
    "ExecuteTime": {
     "end_time": "2025-08-20T21:58:50.985586Z",
     "start_time": "2025-08-20T21:58:50.973578900Z"
    }
   },
   "id": "145283fa251d317f"
  },
  {
   "cell_type": "markdown",
   "source": [
    "То, на чем будем сдавать в самом конце для kaggle"
   ],
   "metadata": {
    "collapsed": false
   },
   "id": "4eaf84ffba6e8a41"
  },
  {
   "cell_type": "code",
   "execution_count": 184,
   "outputs": [],
   "source": [
    "finaltest = pd.read_csv('test.csv')"
   ],
   "metadata": {
    "collapsed": false,
    "ExecuteTime": {
     "end_time": "2025-08-20T21:58:51.543792Z",
     "start_time": "2025-08-20T21:58:50.982586Z"
    }
   },
   "id": "5b762909da081458"
  },
  {
   "cell_type": "code",
   "execution_count": 185,
   "outputs": [
    {
     "data": {
      "text/plain": "   pixel0  pixel1  pixel2  pixel3  pixel4  pixel5  pixel6  pixel7  pixel8  \\\n0       0       0       0       0       0       0       0       0       0   \n1       0       0       0       0       0       0       0       0       0   \n2       0       0       0       0       0       0       0       0       0   \n3       0       0       0       0       0       0       0       0       0   \n4       0       0       0       0       0       0       0       0       0   \n\n   pixel9  ...  pixel774  pixel775  pixel776  pixel777  pixel778  pixel779  \\\n0       0  ...         0         0         0         0         0         0   \n1       0  ...         0         0         0         0         0         0   \n2       0  ...         0         0         0         0         0         0   \n3       0  ...         0         0         0         0         0         0   \n4       0  ...         0         0         0         0         0         0   \n\n   pixel780  pixel781  pixel782  pixel783  \n0         0         0         0         0  \n1         0         0         0         0  \n2         0         0         0         0  \n3         0         0         0         0  \n4         0         0         0         0  \n\n[5 rows x 784 columns]",
      "text/html": "<div>\n<style scoped>\n    .dataframe tbody tr th:only-of-type {\n        vertical-align: middle;\n    }\n\n    .dataframe tbody tr th {\n        vertical-align: top;\n    }\n\n    .dataframe thead th {\n        text-align: right;\n    }\n</style>\n<table border=\"1\" class=\"dataframe\">\n  <thead>\n    <tr style=\"text-align: right;\">\n      <th></th>\n      <th>pixel0</th>\n      <th>pixel1</th>\n      <th>pixel2</th>\n      <th>pixel3</th>\n      <th>pixel4</th>\n      <th>pixel5</th>\n      <th>pixel6</th>\n      <th>pixel7</th>\n      <th>pixel8</th>\n      <th>pixel9</th>\n      <th>...</th>\n      <th>pixel774</th>\n      <th>pixel775</th>\n      <th>pixel776</th>\n      <th>pixel777</th>\n      <th>pixel778</th>\n      <th>pixel779</th>\n      <th>pixel780</th>\n      <th>pixel781</th>\n      <th>pixel782</th>\n      <th>pixel783</th>\n    </tr>\n  </thead>\n  <tbody>\n    <tr>\n      <th>0</th>\n      <td>0</td>\n      <td>0</td>\n      <td>0</td>\n      <td>0</td>\n      <td>0</td>\n      <td>0</td>\n      <td>0</td>\n      <td>0</td>\n      <td>0</td>\n      <td>0</td>\n      <td>...</td>\n      <td>0</td>\n      <td>0</td>\n      <td>0</td>\n      <td>0</td>\n      <td>0</td>\n      <td>0</td>\n      <td>0</td>\n      <td>0</td>\n      <td>0</td>\n      <td>0</td>\n    </tr>\n    <tr>\n      <th>1</th>\n      <td>0</td>\n      <td>0</td>\n      <td>0</td>\n      <td>0</td>\n      <td>0</td>\n      <td>0</td>\n      <td>0</td>\n      <td>0</td>\n      <td>0</td>\n      <td>0</td>\n      <td>...</td>\n      <td>0</td>\n      <td>0</td>\n      <td>0</td>\n      <td>0</td>\n      <td>0</td>\n      <td>0</td>\n      <td>0</td>\n      <td>0</td>\n      <td>0</td>\n      <td>0</td>\n    </tr>\n    <tr>\n      <th>2</th>\n      <td>0</td>\n      <td>0</td>\n      <td>0</td>\n      <td>0</td>\n      <td>0</td>\n      <td>0</td>\n      <td>0</td>\n      <td>0</td>\n      <td>0</td>\n      <td>0</td>\n      <td>...</td>\n      <td>0</td>\n      <td>0</td>\n      <td>0</td>\n      <td>0</td>\n      <td>0</td>\n      <td>0</td>\n      <td>0</td>\n      <td>0</td>\n      <td>0</td>\n      <td>0</td>\n    </tr>\n    <tr>\n      <th>3</th>\n      <td>0</td>\n      <td>0</td>\n      <td>0</td>\n      <td>0</td>\n      <td>0</td>\n      <td>0</td>\n      <td>0</td>\n      <td>0</td>\n      <td>0</td>\n      <td>0</td>\n      <td>...</td>\n      <td>0</td>\n      <td>0</td>\n      <td>0</td>\n      <td>0</td>\n      <td>0</td>\n      <td>0</td>\n      <td>0</td>\n      <td>0</td>\n      <td>0</td>\n      <td>0</td>\n    </tr>\n    <tr>\n      <th>4</th>\n      <td>0</td>\n      <td>0</td>\n      <td>0</td>\n      <td>0</td>\n      <td>0</td>\n      <td>0</td>\n      <td>0</td>\n      <td>0</td>\n      <td>0</td>\n      <td>0</td>\n      <td>...</td>\n      <td>0</td>\n      <td>0</td>\n      <td>0</td>\n      <td>0</td>\n      <td>0</td>\n      <td>0</td>\n      <td>0</td>\n      <td>0</td>\n      <td>0</td>\n      <td>0</td>\n    </tr>\n  </tbody>\n</table>\n<p>5 rows × 784 columns</p>\n</div>"
     },
     "execution_count": 185,
     "metadata": {},
     "output_type": "execute_result"
    }
   ],
   "source": [
    "finaltest.head()"
   ],
   "metadata": {
    "collapsed": false,
    "ExecuteTime": {
     "end_time": "2025-08-20T21:58:51.557150700Z",
     "start_time": "2025-08-20T21:58:51.544792100Z"
    }
   },
   "id": "6b8ba891b1949871"
  },
  {
   "cell_type": "markdown",
   "source": [
    "Пример того, как надо сдавать результаты"
   ],
   "metadata": {
    "collapsed": false
   },
   "id": "ba2175e0594a7a6a"
  },
  {
   "cell_type": "code",
   "execution_count": 186,
   "outputs": [],
   "source": [
    "sample_submission = pd.read_csv('sample_submission.csv')"
   ],
   "metadata": {
    "collapsed": false,
    "ExecuteTime": {
     "end_time": "2025-08-20T21:58:51.564621500Z",
     "start_time": "2025-08-20T21:58:51.554150400Z"
    }
   },
   "id": "bae8de15d8f55318"
  },
  {
   "cell_type": "code",
   "execution_count": 187,
   "outputs": [
    {
     "data": {
      "text/plain": "   ImageId  Label\n0        1      0\n1        2      0\n2        3      0\n3        4      0\n4        5      0",
      "text/html": "<div>\n<style scoped>\n    .dataframe tbody tr th:only-of-type {\n        vertical-align: middle;\n    }\n\n    .dataframe tbody tr th {\n        vertical-align: top;\n    }\n\n    .dataframe thead th {\n        text-align: right;\n    }\n</style>\n<table border=\"1\" class=\"dataframe\">\n  <thead>\n    <tr style=\"text-align: right;\">\n      <th></th>\n      <th>ImageId</th>\n      <th>Label</th>\n    </tr>\n  </thead>\n  <tbody>\n    <tr>\n      <th>0</th>\n      <td>1</td>\n      <td>0</td>\n    </tr>\n    <tr>\n      <th>1</th>\n      <td>2</td>\n      <td>0</td>\n    </tr>\n    <tr>\n      <th>2</th>\n      <td>3</td>\n      <td>0</td>\n    </tr>\n    <tr>\n      <th>3</th>\n      <td>4</td>\n      <td>0</td>\n    </tr>\n    <tr>\n      <th>4</th>\n      <td>5</td>\n      <td>0</td>\n    </tr>\n  </tbody>\n</table>\n</div>"
     },
     "execution_count": 187,
     "metadata": {},
     "output_type": "execute_result"
    }
   ],
   "source": [
    "sample_submission.head()"
   ],
   "metadata": {
    "collapsed": false,
    "ExecuteTime": {
     "end_time": "2025-08-20T21:58:51.580802600Z",
     "start_time": "2025-08-20T21:58:51.563621600Z"
    }
   },
   "id": "1508693dda71a447"
  },
  {
   "cell_type": "markdown",
   "source": [
    "# Подготовка Данных"
   ],
   "metadata": {
    "collapsed": false
   },
   "id": "cb3848d7c58791d4"
  },
  {
   "cell_type": "markdown",
   "source": [
    "Извлекаем отдельно признаки и отдельно целевые значения"
   ],
   "metadata": {
    "collapsed": false
   },
   "id": "af237744557793d3"
  },
  {
   "cell_type": "code",
   "execution_count": 188,
   "outputs": [],
   "source": [
    "features_np = train.iloc[:, 1:].values\n",
    "targets_np = train.label.values"
   ],
   "metadata": {
    "collapsed": false,
    "ExecuteTime": {
     "end_time": "2025-08-20T21:58:51.594801200Z",
     "start_time": "2025-08-20T21:58:51.569565100Z"
    }
   },
   "id": "b20738322fed00cb"
  },
  {
   "cell_type": "markdown",
   "source": [
    "Производим нормировку признаков"
   ],
   "metadata": {
    "collapsed": false
   },
   "id": "3a8a09635676ba0"
  },
  {
   "cell_type": "code",
   "execution_count": 189,
   "outputs": [],
   "source": [
    "features_norm_np = features_np / 255"
   ],
   "metadata": {
    "collapsed": false,
    "ExecuteTime": {
     "end_time": "2025-08-20T21:58:51.662767500Z",
     "start_time": "2025-08-20T21:58:51.572801400Z"
    }
   },
   "id": "3767e53536bc204b"
  },
  {
   "cell_type": "code",
   "execution_count": 190,
   "outputs": [
    {
     "data": {
      "text/plain": "(0.0, 1.0)"
     },
     "execution_count": 190,
     "metadata": {},
     "output_type": "execute_result"
    }
   ],
   "source": [
    "# Проверка, что нормировка проведена успешно\n",
    "features_norm_np.min(), features_norm_np.max()"
   ],
   "metadata": {
    "collapsed": false,
    "ExecuteTime": {
     "end_time": "2025-08-20T21:58:51.692767700Z",
     "start_time": "2025-08-20T21:58:51.632099300Z"
    }
   },
   "id": "2b56d91e42167314"
  },
  {
   "cell_type": "markdown",
   "source": [
    "Разделяем данные для обучения и для тестирования"
   ],
   "metadata": {
    "collapsed": false
   },
   "id": "7f8d422c87b33a0"
  },
  {
   "cell_type": "code",
   "execution_count": 191,
   "outputs": [],
   "source": [
    "test_size = 0.3\n",
    "stratify = targets_np\n",
    "random_state = 0\n",
    "\n",
    "features_train, features_test, targets_train, targets_test = train_test_split(\n",
    "    features_norm_np,\n",
    "    targets_np,\n",
    "    test_size=test_size,\n",
    "    stratify=stratify,\n",
    "    random_state=random_state\n",
    ")"
   ],
   "metadata": {
    "collapsed": false,
    "ExecuteTime": {
     "end_time": "2025-08-20T21:58:51.925054300Z",
     "start_time": "2025-08-20T21:58:51.654767300Z"
    }
   },
   "id": "85accf4c39d48c31"
  },
  {
   "cell_type": "markdown",
   "source": [
    "Проверяем, что разделилось все правильно"
   ],
   "metadata": {
    "collapsed": false
   },
   "id": "93c63c125cdb4cc3"
  },
  {
   "cell_type": "code",
   "execution_count": 192,
   "outputs": [
    {
     "data": {
      "text/plain": "((29400, 784), (29400,))"
     },
     "execution_count": 192,
     "metadata": {},
     "output_type": "execute_result"
    }
   ],
   "source": [
    "# 42_000 * 0.7 = 29_400\n",
    "features_train.shape, targets_train.shape"
   ],
   "metadata": {
    "collapsed": false,
    "ExecuteTime": {
     "end_time": "2025-08-20T21:58:51.932628500Z",
     "start_time": "2025-08-20T21:58:51.926056300Z"
    }
   },
   "id": "f09555830c0d55cc"
  },
  {
   "cell_type": "code",
   "execution_count": 193,
   "outputs": [
    {
     "data": {
      "text/plain": "((12600, 784), (12600,))"
     },
     "execution_count": 193,
     "metadata": {},
     "output_type": "execute_result"
    }
   ],
   "source": [
    "# 42_000 - 29_400 = 12_600\n",
    "features_test.shape, targets_test.shape"
   ],
   "metadata": {
    "collapsed": false,
    "ExecuteTime": {
     "end_time": "2025-08-20T21:58:51.934634700Z",
     "start_time": "2025-08-20T21:58:51.929518700Z"
    }
   },
   "id": "693e9a0ee10da31"
  },
  {
   "cell_type": "markdown",
   "source": [
    "Подгоним размерности для сверточных слоев"
   ],
   "metadata": {
    "collapsed": false
   },
   "id": "1f4f3662589e5a8d"
  },
  {
   "cell_type": "code",
   "execution_count": 194,
   "outputs": [],
   "source": [
    "features_train = features_train.reshape(features_train.shape[0], 1, 28, 28)\n",
    "features_test = features_test.reshape(features_test.shape[0], 1, 28, 28)"
   ],
   "metadata": {
    "collapsed": false,
    "ExecuteTime": {
     "end_time": "2025-08-20T21:58:51.943080300Z",
     "start_time": "2025-08-20T21:58:51.934634700Z"
    }
   },
   "id": "52273e6e408fa278"
  },
  {
   "cell_type": "markdown",
   "source": [
    "Переводим в тензоры"
   ],
   "metadata": {
    "collapsed": false
   },
   "id": "f866b395a19eac5"
  },
  {
   "cell_type": "code",
   "execution_count": 195,
   "outputs": [],
   "source": [
    "features_train_tn = torch.from_numpy(features_train).float()\n",
    "targets_train_tn = torch.from_numpy(targets_train).long()\n",
    "\n",
    "features_test_tn = torch.from_numpy(features_test).float()\n",
    "targets_test_tn = torch.from_numpy(targets_test).long()"
   ],
   "metadata": {
    "collapsed": false,
    "ExecuteTime": {
     "end_time": "2025-08-20T21:58:51.956942700Z",
     "start_time": "2025-08-20T21:58:51.937072900Z"
    }
   },
   "id": "7e6636f113177725"
  },
  {
   "cell_type": "markdown",
   "source": [
    "Проверяем, что все перевелось правильно"
   ],
   "metadata": {
    "collapsed": false
   },
   "id": "78336b014b287c9"
  },
  {
   "cell_type": "code",
   "execution_count": 196,
   "outputs": [
    {
     "data": {
      "text/plain": "(torch.Tensor, torch.Tensor, torch.Tensor, torch.Tensor)"
     },
     "execution_count": 196,
     "metadata": {},
     "output_type": "execute_result"
    }
   ],
   "source": [
    "type(features_train_tn), type(targets_train_tn), type(features_test_tn), type(targets_test_tn)"
   ],
   "metadata": {
    "collapsed": false,
    "ExecuteTime": {
     "end_time": "2025-08-20T21:58:52.004004800Z",
     "start_time": "2025-08-20T21:58:51.957943Z"
    }
   },
   "id": "ccd098947a771e91"
  },
  {
   "cell_type": "markdown",
   "source": [
    "Создаем Датасеты и Даталоудеры"
   ],
   "metadata": {
    "collapsed": false
   },
   "id": "2b38243d8cdc9d6d"
  },
  {
   "cell_type": "code",
   "execution_count": 197,
   "outputs": [],
   "source": [
    "batch_size = 64\n",
    "num_workers = 2\n",
    "\n",
    "train_ds = TensorDataset(features_train_tn, targets_train_tn)\n",
    "test_ds = TensorDataset(features_test_tn, targets_test_tn)\n",
    "\n",
    "train_loader = DataLoader(\n",
    "    train_ds,\n",
    "    batch_size=batch_size,\n",
    "    num_workers=num_workers,\n",
    "    shuffle=True,\n",
    "    drop_last=True,\n",
    "    pin_memory=True\n",
    ")\n",
    "test_loader = DataLoader(\n",
    "    test_ds,\n",
    "    batch_size=batch_size,\n",
    "    num_workers=num_workers,\n",
    "    drop_last=True,\n",
    "    pin_memory=True\n",
    ")"
   ],
   "metadata": {
    "collapsed": false,
    "ExecuteTime": {
     "end_time": "2025-08-20T21:58:52.005004500Z",
     "start_time": "2025-08-20T21:58:51.962470900Z"
    }
   },
   "id": "e514f5f395795a"
  },
  {
   "cell_type": "markdown",
   "source": [
    "Проверяем, что все создалось правильно"
   ],
   "metadata": {
    "collapsed": false
   },
   "id": "c75f98ce295d8079"
  },
  {
   "cell_type": "code",
   "execution_count": 198,
   "outputs": [
    {
     "data": {
      "text/plain": "(<torch.utils.data.dataset.TensorDataset at 0x18fe13caba0>,\n <torch.utils.data.dataset.TensorDataset at 0x18fd2b864e0>)"
     },
     "execution_count": 198,
     "metadata": {},
     "output_type": "execute_result"
    }
   ],
   "source": [
    "train_ds, test_ds"
   ],
   "metadata": {
    "collapsed": false,
    "ExecuteTime": {
     "end_time": "2025-08-20T21:58:52.007006600Z",
     "start_time": "2025-08-20T21:58:51.966321300Z"
    }
   },
   "id": "2ce41d249b7aa198"
  },
  {
   "cell_type": "code",
   "execution_count": 199,
   "outputs": [
    {
     "data": {
      "text/plain": "(<torch.utils.data.dataloader.DataLoader at 0x18fe13a6540>,\n <torch.utils.data.dataloader.DataLoader at 0x18fd2b87650>)"
     },
     "execution_count": 199,
     "metadata": {},
     "output_type": "execute_result"
    }
   ],
   "source": [
    "train_loader, test_loader "
   ],
   "metadata": {
    "collapsed": false,
    "ExecuteTime": {
     "end_time": "2025-08-20T21:58:52.024005500Z",
     "start_time": "2025-08-20T21:58:51.971861500Z"
    }
   },
   "id": "a43e3bb101a753ee"
  },
  {
   "cell_type": "markdown",
   "source": [
    "# Создаем Сам Классификатор"
   ],
   "metadata": {
    "collapsed": false
   },
   "id": "bf7fe35e2fa25c12"
  },
  {
   "cell_type": "code",
   "execution_count": 200,
   "outputs": [],
   "source": [
    "class DigitClassifier(nn.Module):\n",
    "    def __init__(self):\n",
    "        super().__init__()\n",
    "        # Компоненты классификатора\n",
    "        self.conv_block = nn.Sequential(\n",
    "            nn.Conv2d(1, 32, kernel_size=3, stride=1, padding=1),\n",
    "            nn.BatchNorm2d(32),\n",
    "            nn.ReLU(inplace=True),\n",
    "            nn.Conv2d(32, 64, kernel_size=3, stride=1, padding=1),\n",
    "            nn.BatchNorm2d(64),\n",
    "            nn.ReLU(inplace=True),\n",
    "            nn.MaxPool2d(kernel_size=2, stride=2),\n",
    "            nn.Conv2d(64, 128, kernel_size=3, stride=1, padding=1),\n",
    "            nn.BatchNorm2d(128),\n",
    "            nn.ReLU(inplace=True),\n",
    "            nn.MaxPool2d(kernel_size=2, stride=2) \n",
    "        )\n",
    "        \n",
    "        self.linear_block = nn.Sequential(\n",
    "            nn.Dropout(p=0.5),\n",
    "            nn.Linear(128*7*7, 128),\n",
    "            nn.BatchNorm1d(128),\n",
    "            nn.ReLU(inplace=True),\n",
    "            nn.Dropout(0.5),\n",
    "            nn.Linear(128, 64),\n",
    "            nn.BatchNorm1d(64),\n",
    "            nn.ReLU(inplace=True),\n",
    "            nn.Dropout(0.5),\n",
    "            nn.Linear(64, 10)\n",
    "        )\n",
    "        \n",
    "    def forward(self, x):\n",
    "        x = self.conv_block(x)\n",
    "        x = x.view(x.size(0), -1)\n",
    "        x = self.linear_block(x)\n",
    "        \n",
    "        return x"
   ],
   "metadata": {
    "collapsed": false,
    "ExecuteTime": {
     "end_time": "2025-08-20T21:58:52.025005400Z",
     "start_time": "2025-08-20T21:58:51.975219Z"
    }
   },
   "id": "408ed086fd32a5a5"
  },
  {
   "cell_type": "markdown",
   "source": [
    "# Обучение"
   ],
   "metadata": {
    "collapsed": false
   },
   "id": "1c140642af3d3d54"
  },
  {
   "cell_type": "markdown",
   "source": [
    "Подготовка"
   ],
   "metadata": {
    "collapsed": false
   },
   "id": "7523ec0bb843c780"
  },
  {
   "cell_type": "code",
   "execution_count": 201,
   "outputs": [],
   "source": [
    "model = DigitClassifier()\n",
    "\n",
    "loss_function = nn.CrossEntropyLoss()\n",
    "\n",
    "learning_rate = 0.001\n",
    "weight_decay = 1e-4\n",
    "optimizer = optim.Adam(\n",
    "    params=model.parameters(),\n",
    "    lr=learning_rate,\n",
    "    weight_decay=weight_decay\n",
    ")\n",
    "\n",
    "exp_lr_scheduler = torch.optim.lr_scheduler.StepLR(optimizer, step_size=7, gamma=0.1)\n",
    "\n",
    "epochs = 25"
   ],
   "metadata": {
    "collapsed": false,
    "ExecuteTime": {
     "end_time": "2025-08-20T21:58:52.078005100Z",
     "start_time": "2025-08-20T21:58:51.981535800Z"
    }
   },
   "id": "e268da92c9757e33"
  },
  {
   "cell_type": "markdown",
   "source": [
    "Переведем все, что можно нужное устройство"
   ],
   "metadata": {
    "collapsed": false
   },
   "id": "13f9a4f8f297222e"
  },
  {
   "cell_type": "code",
   "execution_count": 202,
   "outputs": [],
   "source": [
    "if device.type == 'cuda':\n",
    "    model.cuda()\n",
    "    loss_function.cuda()"
   ],
   "metadata": {
    "collapsed": false,
    "ExecuteTime": {
     "end_time": "2025-08-20T21:58:52.081006500Z",
     "start_time": "2025-08-20T21:58:51.994209600Z"
    }
   },
   "id": "37f831d95fd1f27f"
  },
  {
   "cell_type": "markdown",
   "source": [
    "Главный цикл обучения"
   ],
   "metadata": {
    "collapsed": false
   },
   "id": "5e03609cc9468381"
  },
  {
   "cell_type": "code",
   "execution_count": 203,
   "outputs": [],
   "source": [
    "model.train()\n",
    "for epoch in range(epochs):\n",
    "    for images, labels in train_loader:\n",
    "        images = images.to(device, non_blocking=True)\n",
    "        labels = labels.to(device, non_blocking=True)\n",
    "        \n",
    "        logits_ps = model(images)\n",
    "        loss = loss_function(logits_ps, labels)\n",
    "        \n",
    "        optimizer.zero_grad()\n",
    "        loss.backward()\n",
    "        optimizer.step()\n",
    "        \n",
    "    exp_lr_scheduler.step()"
   ],
   "metadata": {
    "collapsed": false,
    "ExecuteTime": {
     "end_time": "2025-08-20T22:00:04.069872600Z",
     "start_time": "2025-08-20T21:58:52.006004700Z"
    }
   },
   "id": "ffbea11b540b3c9e"
  },
  {
   "cell_type": "markdown",
   "source": [
    "Валидация"
   ],
   "metadata": {
    "collapsed": false
   },
   "id": "8d797a7c51866ef0"
  },
  {
   "cell_type": "code",
   "execution_count": 204,
   "outputs": [],
   "source": [
    "correct = 0\n",
    "test_size = len(test_loader.dataset)\n",
    "\n",
    "with torch.no_grad():\n",
    "    model.eval()\n",
    "    for images, labels in test_loader:\n",
    "        images = images.to(device, non_blocking=True)\n",
    "        labels = labels.to(device, non_blocking=True)\n",
    "        \n",
    "        logits_ps = model(images)\n",
    "        loss = loss_function(logits_ps, labels)\n",
    "\n",
    "        predictions = torch.argmax(logits_ps, dim=1)\n",
    "\n",
    "        correct += (predictions == labels).sum().item()"
   ],
   "metadata": {
    "collapsed": false,
    "ExecuteTime": {
     "end_time": "2025-08-20T22:00:06.044255900Z",
     "start_time": "2025-08-20T22:00:04.069872600Z"
    }
   },
   "id": "d9f777867ca2ce86"
  },
  {
   "cell_type": "markdown",
   "source": [
    "Получившаяся точность"
   ],
   "metadata": {
    "collapsed": false
   },
   "id": "d31af7c37a1de68e"
  },
  {
   "cell_type": "code",
   "execution_count": 205,
   "outputs": [
    {
     "name": "stdout",
     "output_type": "stream",
     "text": [
      "Test Accuracy: 98.87\n"
     ]
    }
   ],
   "source": [
    "accuracy = correct / test_size\n",
    "print(f'Test Accuracy: {accuracy * 100:.2f}')"
   ],
   "metadata": {
    "collapsed": false,
    "ExecuteTime": {
     "end_time": "2025-08-20T22:00:06.048205800Z",
     "start_time": "2025-08-20T22:00:06.044255900Z"
    }
   },
   "id": "c3460a461594e4b6"
  },
  {
   "cell_type": "markdown",
   "source": [
    "# Подготовка Данных Для Сдачи"
   ],
   "metadata": {
    "collapsed": false
   },
   "id": "9127c226d6d88937"
  },
  {
   "cell_type": "markdown",
   "source": [
    "Переводим в пандас"
   ],
   "metadata": {
    "collapsed": false
   },
   "id": "6514b6fc9b228ade"
  },
  {
   "cell_type": "code",
   "execution_count": 206,
   "outputs": [
    {
     "data": {
      "text/plain": "numpy.ndarray"
     },
     "execution_count": 206,
     "metadata": {},
     "output_type": "execute_result"
    }
   ],
   "source": [
    "finaltest_np = finaltest.values\n",
    "type(finaltest_np)"
   ],
   "metadata": {
    "collapsed": false,
    "ExecuteTime": {
     "end_time": "2025-08-20T22:00:06.058358900Z",
     "start_time": "2025-08-20T22:00:06.048205800Z"
    }
   },
   "id": "8e7a725c1760a881"
  },
  {
   "cell_type": "markdown",
   "source": [
    "Нормируем"
   ],
   "metadata": {
    "collapsed": false
   },
   "id": "5fcd729c635975a7"
  },
  {
   "cell_type": "code",
   "execution_count": 207,
   "outputs": [],
   "source": [
    "finaltest_norm_np = finaltest_np / 255\n"
   ],
   "metadata": {
    "collapsed": false,
    "ExecuteTime": {
     "end_time": "2025-08-20T22:00:06.118555900Z",
     "start_time": "2025-08-20T22:00:06.052360Z"
    }
   },
   "id": "70d1443b1f3f744c"
  },
  {
   "cell_type": "markdown",
   "source": [
    "Проверяем"
   ],
   "metadata": {
    "collapsed": false
   },
   "id": "82af2b602bcd530e"
  },
  {
   "cell_type": "code",
   "execution_count": 208,
   "outputs": [
    {
     "data": {
      "text/plain": "(0.0, 1.0)"
     },
     "execution_count": 208,
     "metadata": {},
     "output_type": "execute_result"
    }
   ],
   "source": [
    "finaltest_norm_np.min(), finaltest_norm_np.max()"
   ],
   "metadata": {
    "collapsed": false,
    "ExecuteTime": {
     "end_time": "2025-08-20T22:00:06.119556400Z",
     "start_time": "2025-08-20T22:00:06.092305700Z"
    }
   },
   "id": "8ae2d4f9e310baa0"
  },
  {
   "cell_type": "code",
   "execution_count": 209,
   "outputs": [
    {
     "data": {
      "text/plain": "(28000, 784)"
     },
     "execution_count": 209,
     "metadata": {},
     "output_type": "execute_result"
    }
   ],
   "source": [
    "finaltest_norm_np.shape"
   ],
   "metadata": {
    "collapsed": false,
    "ExecuteTime": {
     "end_time": "2025-08-20T22:00:06.121555600Z",
     "start_time": "2025-08-20T22:00:06.108634100Z"
    }
   },
   "id": "aea41822790b17de"
  },
  {
   "cell_type": "markdown",
   "source": [
    "Подгоняем размерности под сверточные слои"
   ],
   "metadata": {
    "collapsed": false
   },
   "id": "ddf02d0c5fffddb3"
  },
  {
   "cell_type": "code",
   "execution_count": 210,
   "outputs": [],
   "source": [
    "finaltest_norm_np = finaltest_norm_np.reshape(finaltest_norm_np.shape[0], 1, 28, 28)"
   ],
   "metadata": {
    "collapsed": false,
    "ExecuteTime": {
     "end_time": "2025-08-20T22:00:06.164443500Z",
     "start_time": "2025-08-20T22:00:06.111861100Z"
    }
   },
   "id": "8e00ed4a2e9ff40f"
  },
  {
   "cell_type": "markdown",
   "source": [
    "Проверяем"
   ],
   "metadata": {
    "collapsed": false
   },
   "id": "1e90adfa86a266ba"
  },
  {
   "cell_type": "code",
   "execution_count": 211,
   "outputs": [
    {
     "data": {
      "text/plain": "(28000, 1, 28, 28)"
     },
     "execution_count": 211,
     "metadata": {},
     "output_type": "execute_result"
    }
   ],
   "source": [
    "finaltest_norm_np.shape"
   ],
   "metadata": {
    "collapsed": false,
    "ExecuteTime": {
     "end_time": "2025-08-20T22:00:06.166443400Z",
     "start_time": "2025-08-20T22:00:06.114932900Z"
    }
   },
   "id": "df8b25031af0b9fc"
  },
  {
   "cell_type": "markdown",
   "source": [
    "Переводим в тензор"
   ],
   "metadata": {
    "collapsed": false
   },
   "id": "42fd252ab9b95a8e"
  },
  {
   "cell_type": "code",
   "execution_count": 212,
   "outputs": [],
   "source": [
    "finaltest_tn = torch.from_numpy(finaltest_norm_np).float()"
   ],
   "metadata": {
    "collapsed": false,
    "ExecuteTime": {
     "end_time": "2025-08-20T22:00:06.184443500Z",
     "start_time": "2025-08-20T22:00:06.119556400Z"
    }
   },
   "id": "7229b6f0b70948ca"
  },
  {
   "cell_type": "markdown",
   "source": [
    "Проверяем"
   ],
   "metadata": {
    "collapsed": false
   },
   "id": "b78cc81667cac536"
  },
  {
   "cell_type": "code",
   "execution_count": 213,
   "outputs": [
    {
     "data": {
      "text/plain": "torch.Tensor"
     },
     "execution_count": 213,
     "metadata": {},
     "output_type": "execute_result"
    }
   ],
   "source": [
    "type(finaltest_tn)"
   ],
   "metadata": {
    "collapsed": false,
    "ExecuteTime": {
     "end_time": "2025-08-20T22:00:06.185445800Z",
     "start_time": "2025-08-20T22:00:06.132780600Z"
    }
   },
   "id": "af113c79303f169b"
  },
  {
   "cell_type": "markdown",
   "source": [
    "Производим прогнозирование на финальных данных"
   ],
   "metadata": {
    "collapsed": false
   },
   "id": "219e132ff0f6cfb3"
  },
  {
   "cell_type": "code",
   "execution_count": 214,
   "outputs": [],
   "source": [
    "labels = []\n",
    "\n",
    "model.eval()\n",
    "with torch.no_grad():\n",
    "    for data in finaltest_tn:\n",
    "        data = data.to(device, non_blocking=True)\n",
    "        \n",
    "        logits_ps = model(data.unsqueeze(1))\n",
    "        \n",
    "        prediction = torch.argmax(logits_ps).item()\n",
    "        \n",
    "        labels.append(prediction)"
   ],
   "metadata": {
    "collapsed": false,
    "ExecuteTime": {
     "end_time": "2025-08-20T22:00:23.227009700Z",
     "start_time": "2025-08-20T22:00:06.136444100Z"
    }
   },
   "id": "f6394be9ee2778b0"
  },
  {
   "cell_type": "markdown",
   "source": [
    "Составление датайрейма для записи в файл"
   ],
   "metadata": {
    "collapsed": false
   },
   "id": "6d3da5f581dcf35e"
  },
  {
   "cell_type": "code",
   "execution_count": 215,
   "outputs": [],
   "source": [
    "submission_df = pd.DataFrame({\n",
    "    'ImageId': range(1, len(labels) + 1),\n",
    "    'Label': labels\n",
    "})"
   ],
   "metadata": {
    "collapsed": false,
    "ExecuteTime": {
     "end_time": "2025-08-20T22:00:23.235359600Z",
     "start_time": "2025-08-20T22:00:23.228010900Z"
    }
   },
   "id": "3b6d0f02f7bf660e"
  },
  {
   "cell_type": "markdown",
   "source": [
    "Проверка, что все занеслось правильно"
   ],
   "metadata": {
    "collapsed": false
   },
   "id": "da5b16979a5eb979"
  },
  {
   "cell_type": "code",
   "execution_count": 216,
   "outputs": [
    {
     "data": {
      "text/plain": "   ImageId  Label\n0        1      2\n1        2      0\n2        3      9\n3        4      9\n4        5      3",
      "text/html": "<div>\n<style scoped>\n    .dataframe tbody tr th:only-of-type {\n        vertical-align: middle;\n    }\n\n    .dataframe tbody tr th {\n        vertical-align: top;\n    }\n\n    .dataframe thead th {\n        text-align: right;\n    }\n</style>\n<table border=\"1\" class=\"dataframe\">\n  <thead>\n    <tr style=\"text-align: right;\">\n      <th></th>\n      <th>ImageId</th>\n      <th>Label</th>\n    </tr>\n  </thead>\n  <tbody>\n    <tr>\n      <th>0</th>\n      <td>1</td>\n      <td>2</td>\n    </tr>\n    <tr>\n      <th>1</th>\n      <td>2</td>\n      <td>0</td>\n    </tr>\n    <tr>\n      <th>2</th>\n      <td>3</td>\n      <td>9</td>\n    </tr>\n    <tr>\n      <th>3</th>\n      <td>4</td>\n      <td>9</td>\n    </tr>\n    <tr>\n      <th>4</th>\n      <td>5</td>\n      <td>3</td>\n    </tr>\n  </tbody>\n</table>\n</div>"
     },
     "execution_count": 216,
     "metadata": {},
     "output_type": "execute_result"
    }
   ],
   "source": [
    "submission_df.head()"
   ],
   "metadata": {
    "collapsed": false,
    "ExecuteTime": {
     "end_time": "2025-08-20T22:00:23.244453600Z",
     "start_time": "2025-08-20T22:00:23.233358Z"
    }
   },
   "id": "5a55814aa3baced7"
  },
  {
   "cell_type": "markdown",
   "source": [
    "Запись в файл для сдачи"
   ],
   "metadata": {
    "collapsed": false
   },
   "id": "f843a72462224fa4"
  },
  {
   "cell_type": "code",
   "execution_count": 217,
   "outputs": [],
   "source": [
    "submission_df.to_csv('submission.csv', index=False)"
   ],
   "metadata": {
    "collapsed": false,
    "ExecuteTime": {
     "end_time": "2025-08-20T22:00:23.271558200Z",
     "start_time": "2025-08-20T22:00:23.239454900Z"
    }
   },
   "id": "59bdb222daad4bce"
  }
 ],
 "metadata": {
  "kernelspec": {
   "display_name": "Python 3",
   "language": "python",
   "name": "python3"
  },
  "language_info": {
   "codemirror_mode": {
    "name": "ipython",
    "version": 2
   },
   "file_extension": ".py",
   "mimetype": "text/x-python",
   "name": "python",
   "nbconvert_exporter": "python",
   "pygments_lexer": "ipython2",
   "version": "2.7.6"
  }
 },
 "nbformat": 4,
 "nbformat_minor": 5
}
